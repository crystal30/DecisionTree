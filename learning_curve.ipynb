{
 "cells": [
  {
   "cell_type": "markdown",
   "metadata": {},
   "source": [
    "# 用决策树算法解决回归问题"
   ]
  },
  {
   "cell_type": "code",
   "execution_count": 2,
   "metadata": {},
   "outputs": [
    {
     "name": "stderr",
     "output_type": "stream",
     "text": [
      "/home/crystal/anaconda3/lib/python3.6/importlib/_bootstrap.py:219: RuntimeWarning: numpy.dtype size changed, may indicate binary incompatibility. Expected 96, got 88\n",
      "  return f(*args, **kwds)\n"
     ]
    }
   ],
   "source": [
    "import numpy as np\n",
    "import matplotlib.pyplot as plt\n",
    "from sklearn import datasets"
   ]
  },
  {
   "cell_type": "code",
   "execution_count": 4,
   "metadata": {},
   "outputs": [
    {
     "data": {
      "text/plain": [
       "dict_keys(['data', 'target', 'feature_names', 'DESCR'])"
      ]
     },
     "execution_count": 4,
     "metadata": {},
     "output_type": "execute_result"
    }
   ],
   "source": [
    "mydata = datasets.load_boston()\n",
    "mydata.keys()"
   ]
  },
  {
   "cell_type": "code",
   "execution_count": 5,
   "metadata": {},
   "outputs": [
    {
     "data": {
      "text/plain": [
       "(506, 13)"
      ]
     },
     "execution_count": 5,
     "metadata": {},
     "output_type": "execute_result"
    }
   ],
   "source": [
    "X = mydata.data\n",
    "X.shape"
   ]
  },
  {
   "cell_type": "code",
   "execution_count": 7,
   "metadata": {},
   "outputs": [
    {
     "data": {
      "text/plain": [
       "(506,)"
      ]
     },
     "execution_count": 7,
     "metadata": {},
     "output_type": "execute_result"
    }
   ],
   "source": [
    "y = mydata.target\n",
    "y.shape"
   ]
  },
  {
   "cell_type": "code",
   "execution_count": 8,
   "metadata": {},
   "outputs": [
    {
     "name": "stderr",
     "output_type": "stream",
     "text": [
      "/home/crystal/anaconda3/lib/python3.6/importlib/_bootstrap.py:219: RuntimeWarning: numpy.dtype size changed, may indicate binary incompatibility. Expected 96, got 88\n",
      "  return f(*args, **kwds)\n"
     ]
    }
   ],
   "source": [
    "from sklearn.model_selection import train_test_split\n",
    "X_train, X_test, y_train, y_test = train_test_split(X, y, random_state=666)\n"
   ]
  },
  {
   "cell_type": "code",
   "execution_count": 9,
   "metadata": {},
   "outputs": [
    {
     "name": "stderr",
     "output_type": "stream",
     "text": [
      "/home/crystal/anaconda3/lib/python3.6/importlib/_bootstrap.py:219: RuntimeWarning: numpy.dtype size changed, may indicate binary incompatibility. Expected 96, got 88\n",
      "  return f(*args, **kwds)\n"
     ]
    },
    {
     "data": {
      "text/plain": [
       "DecisionTreeRegressor(criterion='mse', max_depth=None, max_features=None,\n",
       "           max_leaf_nodes=None, min_impurity_decrease=0.0,\n",
       "           min_impurity_split=None, min_samples_leaf=1,\n",
       "           min_samples_split=2, min_weight_fraction_leaf=0.0,\n",
       "           presort=False, random_state=None, splitter='best')"
      ]
     },
     "execution_count": 9,
     "metadata": {},
     "output_type": "execute_result"
    }
   ],
   "source": [
    "from sklearn.tree import DecisionTreeRegressor\n",
    "dt_reg = DecisionTreeRegressor() # 使用默认的参数，不剪枝，容易发生过拟合\n",
    "dt_reg.fit(X_train, y_train)"
   ]
  },
  {
   "cell_type": "markdown",
   "metadata": {},
   "source": [
    "注意：唯一与 DecisionTreeClassifier 不同的是，DecisionTreeRegressor 中参数 criterion 的值默认为‘mse’，也可以是‘mae’"
   ]
  },
  {
   "cell_type": "code",
   "execution_count": 10,
   "metadata": {},
   "outputs": [
    {
     "data": {
      "text/plain": [
       "0.6002239366408695"
      ]
     },
     "execution_count": 10,
     "metadata": {},
     "output_type": "execute_result"
    }
   ],
   "source": [
    "dt_reg.score(X_test, y_test)"
   ]
  },
  {
   "cell_type": "markdown",
   "metadata": {},
   "source": [
    "可见，预测结果不理想,我们来看一下训练数据集的得分，看是不是过拟合了呢"
   ]
  },
  {
   "cell_type": "code",
   "execution_count": 11,
   "metadata": {},
   "outputs": [
    {
     "data": {
      "text/plain": [
       "1.0"
      ]
     },
     "execution_count": 11,
     "metadata": {},
     "output_type": "execute_result"
    }
   ],
   "source": [
    "dt_reg.score(X_train, y_train)"
   ]
  },
  {
   "cell_type": "markdown",
   "metadata": {},
   "source": [
    "显然数据对特定的训练数据集过拟合了"
   ]
  },
  {
   "cell_type": "markdown",
   "metadata": {},
   "source": [
    "# 通过交叉验证和网格搜索寻找最优参数的方法来提高模型"
   ]
  },
  {
   "cell_type": "markdown",
   "metadata": {},
   "source": [
    "1 编写 交叉验证的函数"
   ]
  },
  {
   "cell_type": "code",
   "execution_count": 12,
   "metadata": {},
   "outputs": [],
   "source": [
    "def mycross_val_score(estimator, X_train, y_train):\n",
    "    n = len(X_train)\n",
    "    index = np.arange(n)\n",
    "    np.random.shuffle(index)\n",
    "    X_train1 = X_train[index[:n//3],:]\n",
    "    y_train1 = y_train[index[:n//3]]\n",
    "    X_train2 = X_train[index[n//3:2*n//3],:]\n",
    "    y_train2 = y_train[index[n//3:2*n//3]]\n",
    "    X_train3 = X_train[index[2*n//3:],:]\n",
    "    y_train3 = y_train[index[2*n//3:]]\n",
    "    \n",
    "    score = []\n",
    "    estimator.fit(np.vstack([X_train1, X_train2]), np.hstack([y_train1, y_train2]))\n",
    "    score.append(estimator.score(X_train3, y_train3))\n",
    "    estimator.fit(np.vstack([X_train1, X_train3]), np.hstack([y_train1, y_train3]))\n",
    "    score.append(estimator.score(X_train2, y_train2))\n",
    "    estimator.fit(np.vstack([X_train2, X_train3]), np.hstack([y_train2, y_train3]))\n",
    "    score.append(estimator.score(X_train1, y_train1))\n",
    "    return score\n"
   ]
  },
  {
   "cell_type": "markdown",
   "metadata": {},
   "source": [
    "2 利用网格搜索的方法确定最佳的参数    \n",
    "max_depth=2-10，   \n",
    "max_leaf_nodes=5-20,   \n",
    "min_samples_leaf=10-20,   \n",
    "min_samples_split=10 -50"
   ]
  },
  {
   "cell_type": "code",
   "execution_count": 14,
   "metadata": {},
   "outputs": [
    {
     "name": "stdout",
     "output_type": "stream",
     "text": [
      "best_score: 0.803514867794803\n",
      "max_depth: 7\n",
      "max_leaf_nodes: 15\n",
      "min_samples_leaf: 15\n",
      "min_samples_split: 20\n"
     ]
    }
   ],
   "source": [
    "best_score, best_i,best_j, best_p, best_q = 0, 0, 0, 0, 0\n",
    "for i in range(2, 10):\n",
    "    for j in range(5, 20):\n",
    "        for p in range(10, 20):\n",
    "            for q in range(10, 50):\n",
    "                bt_ref = DecisionTreeRegressor(max_depth=i, max_leaf_nodes=j, min_samples_leaf=p, min_samples_split=q)\n",
    "                score = mycross_val_score(bt_ref, X_train, y_train)\n",
    "                mean_score = np.mean(score)\n",
    "                if mean_score > best_score: \n",
    "                    best_score, best_i,best_j, best_p, best_q = mean_score, i, j, p, q\n",
    "\n",
    "\n",
    "print('best_score:',best_score)\n",
    "print('max_depth:',best_i)\n",
    "print('max_leaf_nodes:', best_j)\n",
    "print('min_samples_leaf:', best_p)\n",
    "print('min_samples_split:', best_q)"
   ]
  },
  {
   "cell_type": "code",
   "execution_count": 46,
   "metadata": {},
   "outputs": [
    {
     "data": {
      "text/plain": [
       "0.6960421956942975"
      ]
     },
     "execution_count": 46,
     "metadata": {},
     "output_type": "execute_result"
    }
   ],
   "source": [
    "dt_reg1 = DecisionTreeRegressor(max_depth=7, max_leaf_nodes=15, min_samples_leaf=15, min_samples_split=20)\n",
    "dt_reg1.fit(X_train, y_train)\n",
    "dt_reg1.score(X_test, y_test)"
   ]
  },
  {
   "cell_type": "code",
   "execution_count": 47,
   "metadata": {},
   "outputs": [
    {
     "data": {
      "text/plain": [
       "0.8514784396951789"
      ]
     },
     "execution_count": 47,
     "metadata": {},
     "output_type": "execute_result"
    }
   ],
   "source": [
    "dt_reg1.score(X_train, y_train)"
   ]
  },
  {
   "cell_type": "markdown",
   "metadata": {},
   "source": [
    "预测结果略微有一点好转，但还不是很理想"
   ]
  },
  {
   "cell_type": "markdown",
   "metadata": {},
   "source": [
    "同理也可以调用 sklearn.model_selection import GridSearchCV 来搜寻最佳参数"
   ]
  },
  {
   "cell_type": "markdown",
   "metadata": {},
   "source": [
    "# 绘制学习曲线"
   ]
  },
  {
   "cell_type": "markdown",
   "metadata": {},
   "source": [
    "1 编写基于mse的学习曲线"
   ]
  },
  {
   "cell_type": "code",
   "execution_count": 51,
   "metadata": {},
   "outputs": [],
   "source": [
    "from sklearn.metrics import mean_squared_error\n",
    "def plot_learning_curve_mse(model, X_train, X_test, y_train, y_test):\n",
    "    train_score = []\n",
    "    test_score = []\n",
    "    for i in range(1,500):\n",
    "        model.fit(X_train[:i],y_train[:i])\n",
    "        y_train_predict = model.predict(X_train[:i])\n",
    "        y_train_mean_squared = mean_squared_error(y_train[:i], y_train_predict)\n",
    "        train_score.append(y_train_mean_squared)\n",
    "\n",
    "        y_test_predict = model.predict(X_test)\n",
    "        y_test_mean_squared = mean_squared_error(y_test, y_test_predict)\n",
    "        test_score.append(y_test_mean_squared)\n",
    "    plt.plot([i for i in range(1,500)], train_score, label='train_score')\n",
    "    plt.plot([i for i in range(1,500)], test_score, label='test_score')\n",
    "    plt.legend()\n",
    "    plt.axis([0, 500, 0, 100])\n",
    "    plt.show()"
   ]
  },
  {
   "cell_type": "markdown",
   "metadata": {},
   "source": [
    "2 编写基于 R2 score的学习曲线"
   ]
  },
  {
   "cell_type": "code",
   "execution_count": null,
   "metadata": {},
   "outputs": [],
   "source": [
    "from sklearn.metrics import r2_score\n",
    "def plot_learning_curve_r2(model, X_train, X_test, y_train, y_test):\n",
    "    train_score = []\n",
    "    test_score = []\n",
    "    for i in range(1,len(X_train)+1):\n",
    "        model.fit(X_train[:i],y_train[:i])\n",
    "        y_train_predict = model.predict(X_train[:i])\n",
    "        y_train_r2_score = r2_score(y_train[:i], y_train_predict)\n",
    "        train_score.append(y_train_r2_score)\n",
    "\n",
    "        y_test_predict = model.predict(X_test)\n",
    "        y_test_r2_score = r2_score(y_test, y_test_predict)\n",
    "        test_score.append(y_test_r2_score)\n",
    "    plt.plot([i for i in range(1,500)], train_score, label='train_score')\n",
    "    plt.plot([i for i in range(1,500)], test_score, label='test_score')\n",
    "    plt.legend()\n",
    "    plt.axis([0, 500, 0, 1])\n",
    "    plt.show()"
   ]
  },
  {
   "cell_type": "code",
   "execution_count": 52,
   "metadata": {},
   "outputs": [
    {
     "data": {
      "image/png": "[encoded data removed]",
      "text/plain": [
       "<matplotlib.figure.Figure at 0x7fcee09dab70>"
      ]
     },
     "metadata": {},
     "output_type": "display_data"
    }
   ],
   "source": [
    "plot_learning_curve_mse(dt_reg, X_train, X_test, y_train, y_test)"
   ]
  },
  {
   "cell_type": "code",
   "execution_count": null,
   "metadata": {},
   "outputs": [],
   "source": [
    "plot_learning_curve_r2(dt_reg, X_train, X_test, y_train, y_test)"
   ]
  },
  {
   "cell_type": "markdown",
   "metadata": {},
   "source": [
    "从学习曲线可以看出，此模型是过拟合的"
   ]
  },
  {
   "cell_type": "code",
   "execution_count": 53,
   "metadata": {},
   "outputs": [
    {
     "data": {
      "image/png": "[encoded data removed]",
      "text/plain": [
       "<matplotlib.figure.Figure at 0x7fcee0b175c0>"
      ]
     },
     "metadata": {},
     "output_type": "display_data"
    }
   ],
   "source": [
    "plot_learning_curve_mse(dt_reg1, X_train, X_test, y_train, y_test)"
   ]
  },
  {
   "cell_type": "code",
   "execution_count": null,
   "metadata": {},
   "outputs": [],
   "source": [
    "plot_learning_curve_r2(dt_reg1, X_train, X_test, y_train, y_test)"
   ]
  },
  {
   "cell_type": "markdown",
   "metadata": {},
   "source": [
    "此模型显然也是过拟合的，不过比上述的好了很多。"
   ]
  },
  {
   "cell_type": "markdown",
   "metadata": {},
   "source": [
    "# 为方便增加交叉验证的组数，调用 sklearn.model_selection.GridSearchCV 来搜寻最佳参数"
   ]
  },
  {
   "cell_type": "code",
   "execution_count": null,
   "metadata": {},
   "outputs": [
    {
     "name": "stdout",
     "output_type": "stream",
     "text": [
      "Fitting 5 folds for each of 648000 candidates, totalling 3240000 fits\n"
     ]
    }
   ],
   "source": [
    "# max_depth=2-10，\n",
    "# max_leaf_nodes=5-50,\n",
    "# min_samples_leaf=10-40,\n",
    "# min_samples_split=10 -70,\n",
    "\n",
    "from sklearn.model_selection import GridSearchCV\n",
    "parameters = {'max_depth' : [i for i in range(2,10)],\n",
    "              'max_leaf_nodes':[i for i in range(5,50)], \n",
    "              'min_samples_leaf':[i for i in range(10,40)],\n",
    "             'min_samples_split':[i for i in range(10,70)]}\n",
    "model = DecisionTreeRegressor()\n",
    "bt_reg3 = GridSearchCV(model, parameters, cv=5, verbose=1)\n",
    "bt_reg3.fit(X_train, y_train)\n",
    "bt_reg3.best_estimator_\n"
   ]
  },
  {
   "cell_type": "code",
   "execution_count": null,
   "metadata": {},
   "outputs": [],
   "source": []
  }
 ],
 "metadata": {
  "kernelspec": {
   "display_name": "Python 3",
   "language": "python",
   "name": "python3"
  },
  "language_info": {
   "codemirror_mode": {
    "name": "ipython",
    "version": 3
   },
   "file_extension": ".py",
   "mimetype": "text/x-python",
   "name": "python",
   "nbconvert_exporter": "python",
   "pygments_lexer": "ipython3",
   "version": "3.6.4"
  }
 },
 "nbformat": 4,
 "nbformat_minor": 2
}
